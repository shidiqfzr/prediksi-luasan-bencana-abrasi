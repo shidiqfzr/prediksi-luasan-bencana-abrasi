{
  "cells": [
    {
      "cell_type": "markdown",
      "metadata": {
        "id": "b8S9FJ1Hn1cQ"
      },
      "source": [
        "# Background"
      ]
    },
    {
      "cell_type": "markdown",
      "metadata": {
        "id": "gza_Uaxqn6XI"
      },
      "source": [
        "# Objective\n",
        "*   **Analisis Faktor Pengaruh** Mengindentifikasi indikator kependudukan yang dapat memengaruhi luasan wilayah yang terdampak bencana abrasi.\n",
        "*   **Hubungan Antar Faktor** Melihat bagaimana kaitan antara faktor yang memengaruhi luasan wilayah terdampak bencana abrasi."
      ]
    },
    {
      "cell_type": "markdown",
      "metadata": {
        "id": "ttc82JISn8Sh"
      },
      "source": [
        "#Data Understanding\n",
        "\n",
        "Pada project ini data yang digunakan bersumber dari Badan Penanggulangan Bencana Daerah Kabupaten Sambas. Dataset ini mencakup:\n",
        "1. Data luasan daerah yang terdampak abrasi berdasarkan kelas kerusakannya\n",
        "2. Total data luasan daerah yang terdampak abrasi\n",
        "3. Data demografi wilayah yang terdampak abrasi\n",
        "\n",
        "Berikut adalah tabel dengan nama atribut dan deskripsinya:\n",
        "\n",
        "| Nama Atribut                        | Deskripsi                                                                                   |\n",
        "|-------------------------------------|---------------------------------------------------------------------------------------------|\n",
        "| ID Desa                             | Kode unik yang mengidentifikasi desa                                                        |\n",
        "| Desa                                | Nama desa                                                                                   |\n",
        "| Kecamatan                           | Kecamatan tempat desa berada                                                                |\n",
        "| Rendah                              | Luasan daerah terdampak dengan kerusakan rendah (dalam hektar)                              |\n",
        "| Sedang                              | Luasan daerah terdampak dengan kerusakan sedang (dalam hektar)                              |\n",
        "| Tinggi                              | Luasan daerah terdampak dengan kerusakan tinggi (dalam hektar)                              |\n",
        "| Total Luas (Ha)                     | Total luas daerah yang terdampak (dalam hektar)                                             |\n",
        "| Kelas                               | Kategori kerusakan secara keseluruhan                                                      |\n",
        "| Jarak ke Ibu Kota Kabupaten (km)    | Jarak desa ke ibu kota kabupaten (dalam kilometer)                                          |\n",
        "| Jumlah Penduduk                     | Jumlah penduduk di desa tersebut                                                            |\n",
        "| Kepadatan Penduduk (jiwa/km²)       | Kepadatan penduduk di desa tersebut (dalam jiwa per kilometer persegi)                      |\n",
        "| Usia Lansia (60 ke atas)            | Jumlah penduduk berusia 60 tahun ke atas di desa tersebut                                   |\n",
        "| Usia Anak (0-14 tahun)              | Jumlah penduduk berusia 0-14 tahun di desa tersebut                                         |\n",
        "| Ibu Hamil                           | Jumlah ibu hamil di desa tersebut                                                           |\n",
        "| Tingkat Pendidikan (SMA/sederajat)  | Jumlah penduduk dengan tingkat pendidikan setara SMA di desa tersebut                       |"
      ]
    },
    {
      "cell_type": "markdown",
      "metadata": {
        "id": "HNnJby7iV4PD"
      },
      "source": [
        "# Import Library"
      ]
    },
    {
      "cell_type": "code",
      "execution_count": 1,
      "metadata": {},
      "outputs": [
        {
          "name": "stdout",
          "output_type": "stream",
          "text": [
            "Requirement already satisfied: xgboost in c:\\python310\\lib\\site-packages (2.1.1)\n",
            "Requirement already satisfied: numpy in c:\\python310\\lib\\site-packages (from xgboost) (1.26.4)\n",
            "Requirement already satisfied: scipy in c:\\python310\\lib\\site-packages (from xgboost) (1.11.3)\n",
            "Note: you may need to restart the kernel to use updated packages.\n"
          ]
        },
        {
          "name": "stderr",
          "output_type": "stream",
          "text": [
            "WARNING: There was an error checking the latest version of pip.\n"
          ]
        }
      ],
      "source": [
        "pip install xgboost"
      ]
    },
    {
      "cell_type": "code",
      "execution_count": 20,
      "metadata": {
        "id": "g3Q1SRCFVwvC"
      },
      "outputs": [],
      "source": [
        "#library\n",
        "import numpy as np\n",
        "from sklearn.linear_model import LinearRegression\n",
        "import pandas as pd\n",
        "from sklearn.ensemble import RandomForestRegressor\n",
        "import xgboost as xgb\n",
        "from sklearn.model_selection import train_test_split\n",
        "from sklearn.model_selection import GridSearchCV\n",
        "import seaborn as sns\n",
        "import smogn\n",
        "import matplotlib.pyplot as plt"
      ]
    },
    {
      "cell_type": "markdown",
      "metadata": {
        "id": "r3tTo7mmwFwp"
      },
      "source": [
        "# Data Loading"
      ]
    },
    {
      "cell_type": "code",
      "execution_count": 3,
      "metadata": {
        "id": "KeVYYtaKwHws"
      },
      "outputs": [],
      "source": [
        "data = pd.read_csv('GelombangAbrasi - glb.csv')"
      ]
    },
    {
      "cell_type": "markdown",
      "metadata": {
        "id": "sbQHR50wXsxz"
      },
      "source": [
        "# EDA"
      ]
    },
    {
      "cell_type": "markdown",
      "metadata": {
        "id": "eLr014eZnBMN"
      },
      "source": [
        "### Menghapus Atribut yang Tidak Digunakan\n",
        "* `ID Desa`\n",
        "* `Desa`\n",
        "* `Kecamatan`\n",
        "* `Rendah`\n",
        "* `Sedang`\n",
        "* `Tinggi`\n",
        "* `Kelas`"
      ]
    },
    {
      "cell_type": "code",
      "execution_count": 4,
      "metadata": {
        "id": "u9BbEnVvWWZ_"
      },
      "outputs": [],
      "source": [
        "data['Total Luas'] = data['Rendah'] + data['Sedang'] + data['Tinggi']"
      ]
    },
    {
      "cell_type": "code",
      "execution_count": 5,
      "metadata": {
        "id": "Q-vGIKv2Wgc-"
      },
      "outputs": [],
      "source": [
        "data = data.drop(['Rendah', 'Sedang','Tinggi'], axis=1)"
      ]
    },
    {
      "cell_type": "code",
      "execution_count": 6,
      "metadata": {
        "id": "wOqB7nrHWzio"
      },
      "outputs": [],
      "source": [
        "data = data.drop(['ID Desa','Desa','Kecamatan', 'Kelas'], axis=1)"
      ]
    },
    {
      "cell_type": "code",
      "execution_count": 7,
      "metadata": {
        "colab": {
          "base_uri": "https://localhost:8080/"
        },
        "id": "8jE1IOcwXomn",
        "outputId": "6c579b75-efc3-447f-d1dd-876e1471b6f8"
      },
      "outputs": [
        {
          "data": {
            "text/html": [
              "<div>\n",
              "<style scoped>\n",
              "    .dataframe tbody tr th:only-of-type {\n",
              "        vertical-align: middle;\n",
              "    }\n",
              "\n",
              "    .dataframe tbody tr th {\n",
              "        vertical-align: top;\n",
              "    }\n",
              "\n",
              "    .dataframe thead th {\n",
              "        text-align: right;\n",
              "    }\n",
              "</style>\n",
              "<table border=\"1\" class=\"dataframe\">\n",
              "  <thead>\n",
              "    <tr style=\"text-align: right;\">\n",
              "      <th></th>\n",
              "      <th>Jarak ke Ibu Kota Kabupaten (km)</th>\n",
              "      <th>Jumlah Penduduk</th>\n",
              "      <th>Kepadatan Penduduk</th>\n",
              "      <th>Perempuan</th>\n",
              "      <th>Usia Lansia (60 ke atas)</th>\n",
              "      <th>Usia Anak (0-14 tahun)</th>\n",
              "      <th>Ibu Hamil</th>\n",
              "      <th>Tingkat Pendidikan (SMA/sederajat)</th>\n",
              "      <th>Total Luas</th>\n",
              "    </tr>\n",
              "  </thead>\n",
              "  <tbody>\n",
              "    <tr>\n",
              "      <th>0</th>\n",
              "      <td>62</td>\n",
              "      <td>5862</td>\n",
              "      <td>122.0</td>\n",
              "      <td>2869</td>\n",
              "      <td>424</td>\n",
              "      <td>1655</td>\n",
              "      <td>104.0</td>\n",
              "      <td>374</td>\n",
              "      <td>58.92</td>\n",
              "    </tr>\n",
              "    <tr>\n",
              "      <th>1</th>\n",
              "      <td>57</td>\n",
              "      <td>2407</td>\n",
              "      <td>133.0</td>\n",
              "      <td>1184</td>\n",
              "      <td>172</td>\n",
              "      <td>636</td>\n",
              "      <td>44.0</td>\n",
              "      <td>147</td>\n",
              "      <td>12.29</td>\n",
              "    </tr>\n",
              "  </tbody>\n",
              "</table>\n",
              "</div>"
            ],
            "text/plain": [
              "   Jarak ke Ibu Kota Kabupaten (km)  Jumlah Penduduk  Kepadatan Penduduk   \n",
              "0                                62             5862               122.0  \\\n",
              "1                                57             2407               133.0   \n",
              "\n",
              "   Perempuan  Usia Lansia (60 ke atas)  Usia Anak (0-14 tahun)  Ibu Hamil   \n",
              "0       2869                       424                    1655      104.0  \\\n",
              "1       1184                       172                     636       44.0   \n",
              "\n",
              "   Tingkat Pendidikan (SMA/sederajat)  Total Luas  \n",
              "0                                 374       58.92  \n",
              "1                                 147       12.29  "
            ]
          },
          "execution_count": 7,
          "metadata": {},
          "output_type": "execute_result"
        }
      ],
      "source": [
        "data.head(2)"
      ]
    },
    {
      "cell_type": "markdown",
      "metadata": {
        "id": "JkSKrNZxi4mS"
      },
      "source": [
        "* Sediakan hipotesis\n",
        "* Insight/Informasi tersembunyi dari data\n",
        "* Distribusi dan Statistik Data\n",
        "* Identifikasi Anomali\n",
        "* Mengukur Korelasi"
      ]
    },
    {
      "cell_type": "code",
      "execution_count": 8,
      "metadata": {
        "colab": {
          "base_uri": "https://localhost:8080/"
        },
        "id": "RNa1x-kejfKz",
        "outputId": "a57af3fd-0cd6-43da-aa63-5f59b75e65d8"
      },
      "outputs": [
        {
          "name": "stdout",
          "output_type": "stream",
          "text": [
            "<class 'pandas.core.frame.DataFrame'>\n",
            "RangeIndex: 32 entries, 0 to 31\n",
            "Data columns (total 9 columns):\n",
            " #   Column                              Non-Null Count  Dtype  \n",
            "---  ------                              --------------  -----  \n",
            " 0   Jarak ke Ibu Kota Kabupaten (km)    32 non-null     int64  \n",
            " 1   Jumlah Penduduk                     32 non-null     int64  \n",
            " 2   Kepadatan Penduduk                  32 non-null     float64\n",
            " 3   Perempuan                           32 non-null     int64  \n",
            " 4   Usia Lansia (60 ke atas)            32 non-null     int64  \n",
            " 5   Usia Anak (0-14 tahun)              32 non-null     int64  \n",
            " 6   Ibu Hamil                           30 non-null     float64\n",
            " 7   Tingkat Pendidikan (SMA/sederajat)  32 non-null     int64  \n",
            " 8   Total Luas                          32 non-null     float64\n",
            "dtypes: float64(3), int64(6)\n",
            "memory usage: 2.4 KB\n"
          ]
        }
      ],
      "source": [
        "data.info()"
      ]
    },
    {
      "cell_type": "markdown",
      "metadata": {
        "id": "dqgvGwMgpBsQ"
      },
      "source": [
        "### Distribusi dan Statistik Data"
      ]
    },
    {
      "cell_type": "code",
      "execution_count": 9,
      "metadata": {
        "colab": {
          "base_uri": "https://localhost:8080/"
        },
        "id": "hhey1OE4lxGE",
        "outputId": "1e7a408f-c92d-4c21-c184-657fc3607745"
      },
      "outputs": [
        {
          "data": {
            "text/plain": [
              "array([[<AxesSubplot:title={'center':'Jarak ke Ibu Kota Kabupaten (km)'}>,\n",
              "        <AxesSubplot:title={'center':'Jumlah Penduduk'}>,\n",
              "        <AxesSubplot:title={'center':'Kepadatan Penduduk'}>],\n",
              "       [<AxesSubplot:title={'center':'Perempuan'}>,\n",
              "        <AxesSubplot:title={'center':'Usia Lansia (60 ke atas)'}>,\n",
              "        <AxesSubplot:title={'center':'Usia Anak (0-14 tahun)'}>],\n",
              "       [<AxesSubplot:title={'center':'Ibu Hamil'}>,\n",
              "        <AxesSubplot:title={'center':'Tingkat Pendidikan (SMA/sederajat)'}>,\n",
              "        <AxesSubplot:title={'center':'Total Luas'}>]], dtype=object)"
            ]
          },
          "execution_count": 9,
          "metadata": {},
          "output_type": "execute_result"
        },
        {
          "data": {
            "image/png": "[encoded data removed]",
            "text/plain": [
              "<Figure size 1500x800 with 9 Axes>"
            ]
          },
          "metadata": {},
          "output_type": "display_data"
        }
      ],
      "source": [
        "data.hist(figsize=(15,8))"
      ]
    },
    {
      "cell_type": "code",
      "execution_count": 10,
      "metadata": {
        "colab": {
          "base_uri": "https://localhost:8080/"
        },
        "id": "bgHBoULfgAXB",
        "outputId": "9792c168-1f2a-4461-eb00-ea4631b2ec32"
      },
      "outputs": [
        {
          "data": {
            "text/html": [
              "<div>\n",
              "<style scoped>\n",
              "    .dataframe tbody tr th:only-of-type {\n",
              "        vertical-align: middle;\n",
              "    }\n",
              "\n",
              "    .dataframe tbody tr th {\n",
              "        vertical-align: top;\n",
              "    }\n",
              "\n",
              "    .dataframe thead th {\n",
              "        text-align: right;\n",
              "    }\n",
              "</style>\n",
              "<table border=\"1\" class=\"dataframe\">\n",
              "  <thead>\n",
              "    <tr style=\"text-align: right;\">\n",
              "      <th></th>\n",
              "      <th>Jarak ke Ibu Kota Kabupaten (km)</th>\n",
              "      <th>Jumlah Penduduk</th>\n",
              "      <th>Kepadatan Penduduk</th>\n",
              "      <th>Perempuan</th>\n",
              "      <th>Usia Lansia (60 ke atas)</th>\n",
              "      <th>Usia Anak (0-14 tahun)</th>\n",
              "      <th>Ibu Hamil</th>\n",
              "      <th>Tingkat Pendidikan (SMA/sederajat)</th>\n",
              "      <th>Total Luas</th>\n",
              "    </tr>\n",
              "  </thead>\n",
              "  <tbody>\n",
              "    <tr>\n",
              "      <th>count</th>\n",
              "      <td>32.000000</td>\n",
              "      <td>32.000000</td>\n",
              "      <td>32.000000</td>\n",
              "      <td>32.000000</td>\n",
              "      <td>32.000000</td>\n",
              "      <td>32.000000</td>\n",
              "      <td>30.000000</td>\n",
              "      <td>32.000000</td>\n",
              "      <td>32.000000</td>\n",
              "    </tr>\n",
              "    <tr>\n",
              "      <th>mean</th>\n",
              "      <td>53.343750</td>\n",
              "      <td>3465.718750</td>\n",
              "      <td>225.824688</td>\n",
              "      <td>1928.593750</td>\n",
              "      <td>375.218750</td>\n",
              "      <td>1080.281250</td>\n",
              "      <td>78.400000</td>\n",
              "      <td>448.875000</td>\n",
              "      <td>46.296250</td>\n",
              "    </tr>\n",
              "    <tr>\n",
              "      <th>std</th>\n",
              "      <td>14.113844</td>\n",
              "      <td>2027.427867</td>\n",
              "      <td>184.758076</td>\n",
              "      <td>1007.720995</td>\n",
              "      <td>258.033848</td>\n",
              "      <td>563.429775</td>\n",
              "      <td>41.350145</td>\n",
              "      <td>409.274476</td>\n",
              "      <td>69.627417</td>\n",
              "    </tr>\n",
              "    <tr>\n",
              "      <th>min</th>\n",
              "      <td>33.000000</td>\n",
              "      <td>970.000000</td>\n",
              "      <td>12.000000</td>\n",
              "      <td>829.000000</td>\n",
              "      <td>112.000000</td>\n",
              "      <td>426.000000</td>\n",
              "      <td>30.000000</td>\n",
              "      <td>74.000000</td>\n",
              "      <td>0.390000</td>\n",
              "    </tr>\n",
              "    <tr>\n",
              "      <th>25%</th>\n",
              "      <td>45.750000</td>\n",
              "      <td>2188.750000</td>\n",
              "      <td>95.250000</td>\n",
              "      <td>1379.250000</td>\n",
              "      <td>197.750000</td>\n",
              "      <td>727.500000</td>\n",
              "      <td>53.250000</td>\n",
              "      <td>229.750000</td>\n",
              "      <td>9.912500</td>\n",
              "    </tr>\n",
              "    <tr>\n",
              "      <th>50%</th>\n",
              "      <td>52.000000</td>\n",
              "      <td>3158.000000</td>\n",
              "      <td>208.000000</td>\n",
              "      <td>1634.500000</td>\n",
              "      <td>330.000000</td>\n",
              "      <td>888.000000</td>\n",
              "      <td>68.500000</td>\n",
              "      <td>315.500000</td>\n",
              "      <td>21.400000</td>\n",
              "    </tr>\n",
              "    <tr>\n",
              "      <th>75%</th>\n",
              "      <td>57.250000</td>\n",
              "      <td>4088.500000</td>\n",
              "      <td>297.750000</td>\n",
              "      <td>2045.250000</td>\n",
              "      <td>431.250000</td>\n",
              "      <td>1228.000000</td>\n",
              "      <td>88.000000</td>\n",
              "      <td>521.500000</td>\n",
              "      <td>41.140000</td>\n",
              "    </tr>\n",
              "    <tr>\n",
              "      <th>max</th>\n",
              "      <td>109.000000</td>\n",
              "      <td>10615.000000</td>\n",
              "      <td>809.000000</td>\n",
              "      <td>5169.000000</td>\n",
              "      <td>1390.000000</td>\n",
              "      <td>2796.000000</td>\n",
              "      <td>200.000000</td>\n",
              "      <td>2129.000000</td>\n",
              "      <td>262.860000</td>\n",
              "    </tr>\n",
              "  </tbody>\n",
              "</table>\n",
              "</div>"
            ],
            "text/plain": [
              "       Jarak ke Ibu Kota Kabupaten (km)  Jumlah Penduduk  Kepadatan Penduduk   \n",
              "count                         32.000000        32.000000           32.000000  \\\n",
              "mean                          53.343750      3465.718750          225.824688   \n",
              "std                           14.113844      2027.427867          184.758076   \n",
              "min                           33.000000       970.000000           12.000000   \n",
              "25%                           45.750000      2188.750000           95.250000   \n",
              "50%                           52.000000      3158.000000          208.000000   \n",
              "75%                           57.250000      4088.500000          297.750000   \n",
              "max                          109.000000     10615.000000          809.000000   \n",
              "\n",
              "         Perempuan  Usia Lansia (60 ke atas)  Usia Anak (0-14 tahun)   \n",
              "count    32.000000                 32.000000               32.000000  \\\n",
              "mean   1928.593750                375.218750             1080.281250   \n",
              "std    1007.720995                258.033848              563.429775   \n",
              "min     829.000000                112.000000              426.000000   \n",
              "25%    1379.250000                197.750000              727.500000   \n",
              "50%    1634.500000                330.000000              888.000000   \n",
              "75%    2045.250000                431.250000             1228.000000   \n",
              "max    5169.000000               1390.000000             2796.000000   \n",
              "\n",
              "        Ibu Hamil  Tingkat Pendidikan (SMA/sederajat)  Total Luas  \n",
              "count   30.000000                           32.000000   32.000000  \n",
              "mean    78.400000                          448.875000   46.296250  \n",
              "std     41.350145                          409.274476   69.627417  \n",
              "min     30.000000                           74.000000    0.390000  \n",
              "25%     53.250000                          229.750000    9.912500  \n",
              "50%     68.500000                          315.500000   21.400000  \n",
              "75%     88.000000                          521.500000   41.140000  \n",
              "max    200.000000                         2129.000000  262.860000  "
            ]
          },
          "execution_count": 10,
          "metadata": {},
          "output_type": "execute_result"
        }
      ],
      "source": [
        "data.describe()"
      ]
    },
    {
      "cell_type": "markdown",
      "metadata": {
        "id": "1-0Y4NOVjxl9"
      },
      "source": [
        "Dari data yang Anda berikan, berikut adalah beberapa insight yang bisa diambil:\n",
        "\n",
        "1. Jarak ke Ibu Kota Kabupaten (km):\n",
        "\n",
        "* Rata-rata jarak adalah sekitar 53.34 km dengan rentang dari 33 km hingga 109 km. Ini menunjukkan bahwa sebagian besar daerah berada dalam jarak yang relatif sama dari ibu kota kabupaten, meskipun ada beberapa yang jauh lebih dekat atau lebih jauh.\n",
        "2. Jumlah Penduduk:\n",
        "\n",
        "* Jumlah penduduk bervariasi secara signifikan dari 970 hingga 10,615, dengan rata-rata sekitar 3,466. Ini menunjukkan variasi besar dalam ukuran populasi antar daerah.\n",
        "3. Kepadatan Penduduk:\n",
        "\n",
        "* Kepadatan penduduk rata-rata adalah 225.82 orang per km², namun ada variasi yang cukup besar dari 12 hingga 809 orang per km². Ini bisa menunjukkan perbedaan signifikan dalam cara pemukiman atau penggunaan lahan antar daerah.\n",
        "4. Jumlah Perempuan:\n",
        "\n",
        "* Jumlah rata-rata perempuan adalah 1,929 dengan rentang dari 829 hingga 5,169. Data ini menunjukkan bahwa ada variasi dalam jumlah perempuan di berbagai daerah.\n",
        "5. Jumlah Usia Lansia (60 ke atas):\n",
        "\n",
        "* Rata-rata jumlah usia lansia adalah 375 dengan rentang dari 112 hingga 1,390. Ini memberikan gambaran tentang proporsi lansia di berbagai daerah.\n",
        "6. Jumlah Usia Anak (0-14 tahun):\n",
        "\n",
        "* Rata-rata jumlah usia anak adalah 1,080 dengan rentang dari 426 hingga 2,796. Ini menunjukkan variasi dalam jumlah anak-anak di berbagai daerah.\n",
        "7. Jumlah Ibu Hamil:\n",
        "\n",
        "* Jumlah rata-rata ibu hamil adalah 78.4 dengan rentang dari 30 hingga 200. Data ini bisa menunjukkan perbedaan dalam tingkat kehamilan di berbagai daerah.\n",
        "8. Tingkat Pendidikan (SMA/sederajat):\n",
        "\n",
        "* Rata-rata jumlah orang dengan pendidikan SMA atau sederajat adalah 449 dengan rentang dari 74 hingga 2,129. Ini menunjukkan variasi dalam tingkat pendidikan antar daerah.\n",
        "9. Total Luas terdampak bencana:\n",
        "\n",
        "* Luas rata-rata adalah 46.30 km² dengan rentang dari 0.39 hingga 262.86 km². Ada perbedaan besar dalam ukuran wilayah antar daerah."
      ]
    },
    {
      "cell_type": "markdown",
      "metadata": {
        "id": "kP_IA9oyZ_T9"
      },
      "source": [
        "### Menangani Missing Value"
      ]
    },
    {
      "cell_type": "markdown",
      "metadata": {
        "id": "YY3P2IM_k2WT"
      },
      "source": [
        "Terdapat kehilangan data atau missing value pada kolom ibu hamil sebanyak 2 baris, untuk menanganinya maka akan ditambahkan nilai dari jumlah rata-rata ibu hamil pada suatu daerah"
      ]
    },
    {
      "cell_type": "code",
      "execution_count": 11,
      "metadata": {
        "colab": {
          "base_uri": "https://localhost:8080/"
        },
        "id": "pyWIN9ySktjk",
        "outputId": "67109b4c-98a9-4471-b29e-e380ea6f3c4e"
      },
      "outputs": [
        {
          "data": {
            "text/plain": [
              "Jarak ke Ibu Kota Kabupaten (km)      0\n",
              "Jumlah Penduduk                       0\n",
              "Kepadatan Penduduk                    0\n",
              "Perempuan                             0\n",
              "Usia Lansia (60 ke atas)              0\n",
              "Usia Anak (0-14 tahun)                0\n",
              "Ibu Hamil                             2\n",
              "Tingkat Pendidikan (SMA/sederajat)    0\n",
              "Total Luas                            0\n",
              "dtype: int64"
            ]
          },
          "execution_count": 11,
          "metadata": {},
          "output_type": "execute_result"
        }
      ],
      "source": [
        "data.isnull().sum()"
      ]
    },
    {
      "cell_type": "code",
      "execution_count": 12,
      "metadata": {
        "id": "eIzzKX5zY2VW"
      },
      "outputs": [],
      "source": [
        "mean_value = data['Ibu Hamil'].mean()\n",
        "data['Ibu Hamil'] = data['Ibu Hamil'].fillna(mean_value)"
      ]
    },
    {
      "cell_type": "code",
      "execution_count": 13,
      "metadata": {
        "colab": {
          "base_uri": "https://localhost:8080/"
        },
        "id": "zrt_BnIYmDqh",
        "outputId": "f2373cf7-2011-45a5-feb7-9f5981aff4c4"
      },
      "outputs": [
        {
          "data": {
            "text/plain": [
              "Jarak ke Ibu Kota Kabupaten (km)      1.931120\n",
              "Jumlah Penduduk                       1.732613\n",
              "Kepadatan Penduduk                    1.263804\n",
              "Perempuan                             1.990204\n",
              "Usia Lansia (60 ke atas)              2.284582\n",
              "Usia Anak (0-14 tahun)                1.666060\n",
              "Ibu Hamil                             1.811442\n",
              "Tingkat Pendidikan (SMA/sederajat)    2.596189\n",
              "Total Luas                            2.275535\n",
              "dtype: float64"
            ]
          },
          "execution_count": 13,
          "metadata": {},
          "output_type": "execute_result"
        }
      ],
      "source": [
        "data.skew()"
      ]
    },
    {
      "cell_type": "markdown",
      "metadata": {
        "id": "tqEnhU83mVcT"
      },
      "source": [
        "Dari data skewness (kemiringan distribusi) yang Anda berikan, berikut adalah beberapa insight yang dapat diambil:\n",
        "\n",
        "1. **Semua variabel memiliki skewness positif**:\n",
        "   - Semua variabel menunjukkan nilai skewness yang positif, yang berarti distribusi data tersebut miring ke kanan. Dalam hal ini, nilai-nilai data cenderung terkumpul di sisi kiri (nilai yang lebih rendah), sementara terdapat beberapa nilai yang sangat tinggi (outlier) di sisi kanan.\n",
        "\n",
        "2. **Tingkat Pendidikan (SMA/sederajat) memiliki skewness tertinggi (2.596189)**:\n",
        "   - Distribusi ini sangat miring ke kanan, menunjukkan bahwa mayoritas jumlah orang dengan pendidikan SMA atau sederajat berada pada angka yang lebih rendah, tetapi ada beberapa daerah yang memiliki jumlah sangat tinggi. Ini bisa menunjukkan adanya perbedaan besar dalam tingkat pendidikan di berbagai daerah.\n",
        "\n",
        "3. **Variabel dengan skewness tinggi lainnya**:\n",
        "   - **Usia Lansia (60 ke atas) (2.284582)** dan **Total Luas Terdampak Abrasi (2.275535)** juga memiliki skewness yang tinggi. Ini menunjukkan bahwa sebagian besar daerah memiliki jumlah usia lansia dan luas terdampak abrasi yang lebih kecil, tetapi ada beberapa daerah dengan jumlah atau luas yang jauh lebih besar.\n",
        "   - **Perempuan (1.990204)** dan **Ibu Hamil (1.811442)** juga menunjukkan skewness yang tinggi. Ini berarti sebagian besar daerah memiliki jumlah perempuan dan ibu hamil yang lebih rendah, dengan beberapa daerah memiliki jumlah yang jauh lebih tinggi.\n",
        "\n",
        "4. **Skewness Moderat**:\n",
        "   - **Jarak ke Ibu Kota Kabupaten (1.931120)**, **Jumlah Penduduk (1.732613)**, dan **Usia Anak (0-14 tahun) (1.666060)** juga menunjukkan skewness yang positif, meskipun sedikit lebih moderat. Ini berarti ada kecenderungan distribusi data yang miring ke kanan, tetapi tidak se-ekstrem variabel-variabel dengan skewness tertinggi.\n",
        "\n",
        "5. **Kepadatan Penduduk (1.263804)** memiliki skewness yang paling rendah:\n",
        "   - Meskipun masih miring ke kanan, skewness ini yang paling mendekati distribusi normal di antara variabel-variabel yang ada. Ini menunjukkan distribusi kepadatan penduduk sedikit lebih seimbang dibandingkan variabel lainnya, meskipun tetap memiliki beberapa daerah dengan kepadatan yang jauh lebih tinggi.\n",
        "\n",
        "\n",
        "- **Distribusi Tidak Normal**: Skewness yang positif pada semua variabel menunjukkan bahwa data ini tidak mengikuti distribusi normal. Ini dapat memengaruhi pemilihan metode analisis statistik, karena beberapa metode statistik mengasumsikan distribusi normal.\n",
        "- **Transformasi Data Diperlukan**: Mengingat skewness yang cukup tinggi di sebagian besar variabel, transformasi data (misalnya, menggunakan log atau akar kuadrat) mungkin diperlukan untuk mencapai distribusi yang lebih normal, terutama jika Anda berencana menggunakan analisis statistik yang sensitif terhadap distribusi data.\n",
        "- **Identifikasi Outlier**: Tingginya nilai skewness menunjukkan bahwa ada beberapa outlier (nilai ekstrem) di data. Ini penting untuk ditangani atau dipertimbangkan karena dapat memengaruhi hasil analisis.\n"
      ]
    },
    {
      "cell_type": "markdown",
      "metadata": {
        "id": "iL5oVq32m_ku"
      },
      "source": [
        "# SMOGN\n",
        "\n",
        "Gunakan Synthetic Minority Over-sampling Technique for Regression with Gaussian Noise (SMOGN) untuk menangani ketidakseimbangan data dalam masalah regresi"
      ]
    },
    {
      "cell_type": "code",
      "execution_count": 14,
      "metadata": {
        "colab": {
          "base_uri": "https://localhost:8080/"
        },
        "id": "WHwDHBXnQAH7",
        "outputId": "db948ad8-9ee9-4836-e396-e2089e93b185"
      },
      "outputs": [
        {
          "name": "stderr",
          "output_type": "stream",
          "text": [
            "dist_matrix: 100%|##########| 9/9 [00:00<00:00, 183.37it/s]\n",
            "r_index: 100%|##########| 6/6 [00:00<00:00, 201.48it/s]\n"
          ]
        }
      ],
      "source": [
        "cleaned = smogn.smoter(data=data, y=\"Total Luas\")"
      ]
    },
    {
      "cell_type": "code",
      "execution_count": 15,
      "metadata": {
        "colab": {
          "base_uri": "https://localhost:8080/",
          "height": 791
        },
        "id": "IM1TpbNrRGvC",
        "outputId": "35c9b179-8c75-4d22-fa70-0d3c9aa07378"
      },
      "outputs": [
        {
          "data": {
            "text/html": [
              "<div>\n",
              "<style scoped>\n",
              "    .dataframe tbody tr th:only-of-type {\n",
              "        vertical-align: middle;\n",
              "    }\n",
              "\n",
              "    .dataframe tbody tr th {\n",
              "        vertical-align: top;\n",
              "    }\n",
              "\n",
              "    .dataframe thead th {\n",
              "        text-align: right;\n",
              "    }\n",
              "</style>\n",
              "<table border=\"1\" class=\"dataframe\">\n",
              "  <thead>\n",
              "    <tr style=\"text-align: right;\">\n",
              "      <th></th>\n",
              "      <th>Jarak ke Ibu Kota Kabupaten (km)</th>\n",
              "      <th>Jumlah Penduduk</th>\n",
              "      <th>Kepadatan Penduduk</th>\n",
              "      <th>Perempuan</th>\n",
              "      <th>Usia Lansia (60 ke atas)</th>\n",
              "      <th>Usia Anak (0-14 tahun)</th>\n",
              "      <th>Ibu Hamil</th>\n",
              "      <th>Tingkat Pendidikan (SMA/sederajat)</th>\n",
              "      <th>Total Luas</th>\n",
              "    </tr>\n",
              "  </thead>\n",
              "  <tbody>\n",
              "    <tr>\n",
              "      <th>0</th>\n",
              "      <td>49.0</td>\n",
              "      <td>10614.0</td>\n",
              "      <td>480.075950</td>\n",
              "      <td>5149.0</td>\n",
              "      <td>1375.0</td>\n",
              "      <td>2792.0</td>\n",
              "      <td>201.271580</td>\n",
              "      <td>2113.0</td>\n",
              "      <td>130.998395</td>\n",
              "    </tr>\n",
              "    <tr>\n",
              "      <th>1</th>\n",
              "      <td>33.0</td>\n",
              "      <td>3718.0</td>\n",
              "      <td>67.228081</td>\n",
              "      <td>1768.0</td>\n",
              "      <td>557.0</td>\n",
              "      <td>1658.0</td>\n",
              "      <td>129.567785</td>\n",
              "      <td>976.0</td>\n",
              "      <td>118.458883</td>\n",
              "    </tr>\n",
              "    <tr>\n",
              "      <th>2</th>\n",
              "      <td>104.0</td>\n",
              "      <td>1371.0</td>\n",
              "      <td>13.390395</td>\n",
              "      <td>1371.0</td>\n",
              "      <td>117.0</td>\n",
              "      <td>737.0</td>\n",
              "      <td>75.516759</td>\n",
              "      <td>232.0</td>\n",
              "      <td>69.646904</td>\n",
              "    </tr>\n",
              "    <tr>\n",
              "      <th>3</th>\n",
              "      <td>51.0</td>\n",
              "      <td>3073.0</td>\n",
              "      <td>139.886071</td>\n",
              "      <td>1500.0</td>\n",
              "      <td>282.0</td>\n",
              "      <td>792.0</td>\n",
              "      <td>69.668694</td>\n",
              "      <td>220.0</td>\n",
              "      <td>188.890912</td>\n",
              "    </tr>\n",
              "    <tr>\n",
              "      <th>4</th>\n",
              "      <td>38.0</td>\n",
              "      <td>1908.0</td>\n",
              "      <td>30.031567</td>\n",
              "      <td>1814.0</td>\n",
              "      <td>337.0</td>\n",
              "      <td>924.0</td>\n",
              "      <td>74.866669</td>\n",
              "      <td>335.0</td>\n",
              "      <td>46.664086</td>\n",
              "    </tr>\n",
              "    <tr>\n",
              "      <th>5</th>\n",
              "      <td>37.0</td>\n",
              "      <td>2056.0</td>\n",
              "      <td>197.492244</td>\n",
              "      <td>1102.0</td>\n",
              "      <td>152.0</td>\n",
              "      <td>562.0</td>\n",
              "      <td>37.976463</td>\n",
              "      <td>88.0</td>\n",
              "      <td>52.670435</td>\n",
              "    </tr>\n",
              "    <tr>\n",
              "      <th>0</th>\n",
              "      <td>62.0</td>\n",
              "      <td>5862.0</td>\n",
              "      <td>122.000000</td>\n",
              "      <td>2869.0</td>\n",
              "      <td>424.0</td>\n",
              "      <td>1655.0</td>\n",
              "      <td>104.000000</td>\n",
              "      <td>374.0</td>\n",
              "      <td>58.920000</td>\n",
              "    </tr>\n",
              "    <tr>\n",
              "      <th>1</th>\n",
              "      <td>57.0</td>\n",
              "      <td>2407.0</td>\n",
              "      <td>133.000000</td>\n",
              "      <td>1184.0</td>\n",
              "      <td>172.0</td>\n",
              "      <td>636.0</td>\n",
              "      <td>44.000000</td>\n",
              "      <td>147.0</td>\n",
              "      <td>12.290000</td>\n",
              "    </tr>\n",
              "    <tr>\n",
              "      <th>4</th>\n",
              "      <td>52.0</td>\n",
              "      <td>3062.0</td>\n",
              "      <td>282.000000</td>\n",
              "      <td>1496.0</td>\n",
              "      <td>246.0</td>\n",
              "      <td>830.0</td>\n",
              "      <td>57.000000</td>\n",
              "      <td>224.0</td>\n",
              "      <td>0.730000</td>\n",
              "    </tr>\n",
              "    <tr>\n",
              "      <th>5</th>\n",
              "      <td>50.0</td>\n",
              "      <td>3313.0</td>\n",
              "      <td>187.000000</td>\n",
              "      <td>1606.0</td>\n",
              "      <td>265.0</td>\n",
              "      <td>892.0</td>\n",
              "      <td>59.000000</td>\n",
              "      <td>246.0</td>\n",
              "      <td>0.980000</td>\n",
              "    </tr>\n",
              "    <tr>\n",
              "      <th>12</th>\n",
              "      <td>49.0</td>\n",
              "      <td>10615.0</td>\n",
              "      <td>488.040000</td>\n",
              "      <td>5169.0</td>\n",
              "      <td>1390.0</td>\n",
              "      <td>2796.0</td>\n",
              "      <td>200.000000</td>\n",
              "      <td>2129.0</td>\n",
              "      <td>131.010000</td>\n",
              "    </tr>\n",
              "    <tr>\n",
              "      <th>15</th>\n",
              "      <td>71.0</td>\n",
              "      <td>4446.0</td>\n",
              "      <td>212.000000</td>\n",
              "      <td>2166.0</td>\n",
              "      <td>376.0</td>\n",
              "      <td>1217.0</td>\n",
              "      <td>89.000000</td>\n",
              "      <td>335.0</td>\n",
              "      <td>21.280000</td>\n",
              "    </tr>\n",
              "    <tr>\n",
              "      <th>17</th>\n",
              "      <td>64.0</td>\n",
              "      <td>4851.0</td>\n",
              "      <td>809.000000</td>\n",
              "      <td>2374.0</td>\n",
              "      <td>498.0</td>\n",
              "      <td>1261.0</td>\n",
              "      <td>99.000000</td>\n",
              "      <td>576.0</td>\n",
              "      <td>11.920000</td>\n",
              "    </tr>\n",
              "    <tr>\n",
              "      <th>19</th>\n",
              "      <td>57.0</td>\n",
              "      <td>4721.0</td>\n",
              "      <td>30.000000</td>\n",
              "      <td>4721.0</td>\n",
              "      <td>744.0</td>\n",
              "      <td>2546.0</td>\n",
              "      <td>193.000000</td>\n",
              "      <td>1075.0</td>\n",
              "      <td>262.860000</td>\n",
              "    </tr>\n",
              "    <tr>\n",
              "      <th>22</th>\n",
              "      <td>39.0</td>\n",
              "      <td>1842.0</td>\n",
              "      <td>30.000000</td>\n",
              "      <td>1842.0</td>\n",
              "      <td>339.0</td>\n",
              "      <td>926.0</td>\n",
              "      <td>75.000000</td>\n",
              "      <td>323.0</td>\n",
              "      <td>43.630000</td>\n",
              "    </tr>\n",
              "    <tr>\n",
              "      <th>24</th>\n",
              "      <td>41.0</td>\n",
              "      <td>970.0</td>\n",
              "      <td>31.000000</td>\n",
              "      <td>970.0</td>\n",
              "      <td>188.0</td>\n",
              "      <td>450.0</td>\n",
              "      <td>39.000000</td>\n",
              "      <td>111.0</td>\n",
              "      <td>40.310000</td>\n",
              "    </tr>\n",
              "    <tr>\n",
              "      <th>25</th>\n",
              "      <td>109.0</td>\n",
              "      <td>1403.0</td>\n",
              "      <td>12.000000</td>\n",
              "      <td>1403.0</td>\n",
              "      <td>112.0</td>\n",
              "      <td>760.0</td>\n",
              "      <td>78.400000</td>\n",
              "      <td>242.0</td>\n",
              "      <td>255.850000</td>\n",
              "    </tr>\n",
              "    <tr>\n",
              "      <th>26</th>\n",
              "      <td>46.0</td>\n",
              "      <td>1277.0</td>\n",
              "      <td>35.000000</td>\n",
              "      <td>1277.0</td>\n",
              "      <td>162.0</td>\n",
              "      <td>714.0</td>\n",
              "      <td>49.000000</td>\n",
              "      <td>306.0</td>\n",
              "      <td>21.000000</td>\n",
              "    </tr>\n",
              "    <tr>\n",
              "      <th>27</th>\n",
              "      <td>52.0</td>\n",
              "      <td>3144.0</td>\n",
              "      <td>139.920000</td>\n",
              "      <td>1519.0</td>\n",
              "      <td>286.0</td>\n",
              "      <td>807.0</td>\n",
              "      <td>70.000000</td>\n",
              "      <td>239.0</td>\n",
              "      <td>189.790000</td>\n",
              "    </tr>\n",
              "    <tr>\n",
              "      <th>28</th>\n",
              "      <td>33.0</td>\n",
              "      <td>3652.0</td>\n",
              "      <td>66.000000</td>\n",
              "      <td>1784.0</td>\n",
              "      <td>556.0</td>\n",
              "      <td>1664.0</td>\n",
              "      <td>128.000000</td>\n",
              "      <td>987.0</td>\n",
              "      <td>119.210000</td>\n",
              "    </tr>\n",
              "    <tr>\n",
              "      <th>30</th>\n",
              "      <td>37.0</td>\n",
              "      <td>2110.0</td>\n",
              "      <td>204.000000</td>\n",
              "      <td>1043.0</td>\n",
              "      <td>150.0</td>\n",
              "      <td>574.0</td>\n",
              "      <td>41.000000</td>\n",
              "      <td>103.0</td>\n",
              "      <td>53.580000</td>\n",
              "    </tr>\n",
              "    <tr>\n",
              "      <th>31</th>\n",
              "      <td>57.0</td>\n",
              "      <td>6094.0</td>\n",
              "      <td>244.000000</td>\n",
              "      <td>2966.0</td>\n",
              "      <td>771.0</td>\n",
              "      <td>1742.0</td>\n",
              "      <td>85.000000</td>\n",
              "      <td>959.0</td>\n",
              "      <td>6.380000</td>\n",
              "    </tr>\n",
              "  </tbody>\n",
              "</table>\n",
              "</div>"
            ],
            "text/plain": [
              "    Jarak ke Ibu Kota Kabupaten (km)  Jumlah Penduduk  Kepadatan Penduduk   \n",
              "0                               49.0          10614.0          480.075950  \\\n",
              "1                               33.0           3718.0           67.228081   \n",
              "2                              104.0           1371.0           13.390395   \n",
              "3                               51.0           3073.0          139.886071   \n",
              "4                               38.0           1908.0           30.031567   \n",
              "5                               37.0           2056.0          197.492244   \n",
              "0                               62.0           5862.0          122.000000   \n",
              "1                               57.0           2407.0          133.000000   \n",
              "4                               52.0           3062.0          282.000000   \n",
              "5                               50.0           3313.0          187.000000   \n",
              "12                              49.0          10615.0          488.040000   \n",
              "15                              71.0           4446.0          212.000000   \n",
              "17                              64.0           4851.0          809.000000   \n",
              "19                              57.0           4721.0           30.000000   \n",
              "22                              39.0           1842.0           30.000000   \n",
              "24                              41.0            970.0           31.000000   \n",
              "25                             109.0           1403.0           12.000000   \n",
              "26                              46.0           1277.0           35.000000   \n",
              "27                              52.0           3144.0          139.920000   \n",
              "28                              33.0           3652.0           66.000000   \n",
              "30                              37.0           2110.0          204.000000   \n",
              "31                              57.0           6094.0          244.000000   \n",
              "\n",
              "    Perempuan  Usia Lansia (60 ke atas)  Usia Anak (0-14 tahun)   Ibu Hamil   \n",
              "0      5149.0                    1375.0                  2792.0  201.271580  \\\n",
              "1      1768.0                     557.0                  1658.0  129.567785   \n",
              "2      1371.0                     117.0                   737.0   75.516759   \n",
              "3      1500.0                     282.0                   792.0   69.668694   \n",
              "4      1814.0                     337.0                   924.0   74.866669   \n",
              "5      1102.0                     152.0                   562.0   37.976463   \n",
              "0      2869.0                     424.0                  1655.0  104.000000   \n",
              "1      1184.0                     172.0                   636.0   44.000000   \n",
              "4      1496.0                     246.0                   830.0   57.000000   \n",
              "5      1606.0                     265.0                   892.0   59.000000   \n",
              "12     5169.0                    1390.0                  2796.0  200.000000   \n",
              "15     2166.0                     376.0                  1217.0   89.000000   \n",
              "17     2374.0                     498.0                  1261.0   99.000000   \n",
              "19     4721.0                     744.0                  2546.0  193.000000   \n",
              "22     1842.0                     339.0                   926.0   75.000000   \n",
              "24      970.0                     188.0                   450.0   39.000000   \n",
              "25     1403.0                     112.0                   760.0   78.400000   \n",
              "26     1277.0                     162.0                   714.0   49.000000   \n",
              "27     1519.0                     286.0                   807.0   70.000000   \n",
              "28     1784.0                     556.0                  1664.0  128.000000   \n",
              "30     1043.0                     150.0                   574.0   41.000000   \n",
              "31     2966.0                     771.0                  1742.0   85.000000   \n",
              "\n",
              "    Tingkat Pendidikan (SMA/sederajat)  Total Luas  \n",
              "0                               2113.0  130.998395  \n",
              "1                                976.0  118.458883  \n",
              "2                                232.0   69.646904  \n",
              "3                                220.0  188.890912  \n",
              "4                                335.0   46.664086  \n",
              "5                                 88.0   52.670435  \n",
              "0                                374.0   58.920000  \n",
              "1                                147.0   12.290000  \n",
              "4                                224.0    0.730000  \n",
              "5                                246.0    0.980000  \n",
              "12                              2129.0  131.010000  \n",
              "15                               335.0   21.280000  \n",
              "17                               576.0   11.920000  \n",
              "19                              1075.0  262.860000  \n",
              "22                               323.0   43.630000  \n",
              "24                               111.0   40.310000  \n",
              "25                               242.0  255.850000  \n",
              "26                               306.0   21.000000  \n",
              "27                               239.0  189.790000  \n",
              "28                               987.0  119.210000  \n",
              "30                               103.0   53.580000  \n",
              "31                               959.0    6.380000  "
            ]
          },
          "execution_count": 15,
          "metadata": {},
          "output_type": "execute_result"
        }
      ],
      "source": [
        "cleaned"
      ]
    },
    {
      "cell_type": "code",
      "execution_count": 30,
      "metadata": {
        "colab": {
          "base_uri": "https://localhost:8080/",
          "height": 657
        },
        "id": "_GtNu2bEReNs",
        "outputId": "6640e217-aa55-45fb-dff2-918025436f18"
      },
      "outputs": [
        {
          "data": {
            "text/plain": [
              "(array([20.,  5.,  2.,  0.,  2.,  0.,  0.,  1.,  0.,  2.]),\n",
              " array([  0.39 ,  26.637,  52.884,  79.131, 105.378, 131.625, 157.872,\n",
              "        184.119, 210.366, 236.613, 262.86 ]),\n",
              " <BarContainer object of 10 artists>)"
            ]
          },
          "execution_count": 30,
          "metadata": {},
          "output_type": "execute_result"
        },
        {
          "data": {
            "image/png": "[encoded data removed]",
            "text/plain": [
              "<Figure size 640x480 with 1 Axes>"
            ]
          },
          "metadata": {},
          "output_type": "display_data"
        }
      ],
      "source": [
        "plt.hist(data['Total Luas'])"
      ]
    },
    {
      "cell_type": "code",
      "execution_count": 31,
      "metadata": {
        "colab": {
          "base_uri": "https://localhost:8080/",
          "height": 657
        },
        "id": "O7DMQnX5R2zc",
        "outputId": "9740416b-a9e6-468f-c98b-21d7497d1fac"
      },
      "outputs": [
        {
          "data": {
            "text/plain": [
              "(array([7., 4., 3., 0., 4., 0., 0., 2., 0., 2.]),\n",
              " array([  0.73 ,  26.943,  53.156,  79.369, 105.582, 131.795, 158.008,\n",
              "        184.221, 210.434, 236.647, 262.86 ]),\n",
              " <BarContainer object of 10 artists>)"
            ]
          },
          "execution_count": 31,
          "metadata": {},
          "output_type": "execute_result"
        },
        {
          "data": {
            "image/png": "[encoded data removed]",
            "text/plain": [
              "<Figure size 640x480 with 1 Axes>"
            ]
          },
          "metadata": {},
          "output_type": "display_data"
        }
      ],
      "source": [
        "plt.hist(cleaned['Total Luas'])"
      ]
    },
    {
      "cell_type": "markdown",
      "metadata": {
        "id": "jymREwVSXzI8"
      },
      "source": [
        "# Train test split"
      ]
    },
    {
      "cell_type": "code",
      "execution_count": 32,
      "metadata": {
        "id": "NaPKMul-X2x7"
      },
      "outputs": [],
      "source": [
        "train_data = cleaned\n",
        "X = train_data.drop(['Total Luas'], axis=1)\n",
        "y = train_data['Total Luas']\n",
        "X_train, X_test, y_train, y_test = train_test_split(X, y, test_size=0.2, random_state=42)"
      ]
    },
    {
      "cell_type": "markdown",
      "metadata": {
        "id": "8k9biHUQYPLx"
      },
      "source": [
        "# Model Development"
      ]
    },
    {
      "cell_type": "markdown",
      "metadata": {
        "id": "DuJ8eay9YRWG"
      },
      "source": [
        "## Linear Regression"
      ]
    },
    {
      "cell_type": "code",
      "execution_count": 33,
      "metadata": {
        "id": "MReZNcMtYU1w"
      },
      "outputs": [],
      "source": [
        "model1 = LinearRegression().fit(X, y)"
      ]
    },
    {
      "cell_type": "code",
      "execution_count": 34,
      "metadata": {
        "colab": {
          "base_uri": "https://localhost:8080/"
        },
        "id": "DUkTZaMmY60F",
        "outputId": "a7d2f55c-588b-49b3-8df4-bf5f4a9e0211"
      },
      "outputs": [
        {
          "data": {
            "text/plain": [
              "0.6150094069805283"
            ]
          },
          "execution_count": 34,
          "metadata": {},
          "output_type": "execute_result"
        }
      ],
      "source": [
        "model1.score(X, y)"
      ]
    },
    {
      "cell_type": "markdown",
      "metadata": {
        "id": "ipJGmYUgZjHd"
      },
      "source": [
        "## XGBoost"
      ]
    },
    {
      "cell_type": "code",
      "execution_count": 35,
      "metadata": {
        "id": "CYUA5e-sZlmi"
      },
      "outputs": [],
      "source": [
        "model2 = xgb.XGBRFRegressor().fit(X, y)"
      ]
    },
    {
      "cell_type": "code",
      "execution_count": 36,
      "metadata": {
        "colab": {
          "base_uri": "https://localhost:8080/"
        },
        "id": "dyxXnzeDZ5O8",
        "outputId": "946a8309-af85-4986-b013-806d4a2eb838"
      },
      "outputs": [
        {
          "data": {
            "text/plain": [
              "0.9326726305782954"
            ]
          },
          "execution_count": 36,
          "metadata": {},
          "output_type": "execute_result"
        }
      ],
      "source": [
        "model2.score(X, y)"
      ]
    },
    {
      "cell_type": "markdown",
      "metadata": {
        "id": "xqYO0hBtaEjc"
      },
      "source": [
        "* Model Linear Regression memberikan score sebesar: 0.6150094069805283\n",
        "* Model Extreme Gradient Boost memberikan score sebesar: 0.9326726305782954\n",
        "\n",
        "Model dengan score terbaik adalah Extreme Gradient Boost"
      ]
    },
    {
      "cell_type": "markdown",
      "metadata": {
        "id": "pe0xNgZmXX5p"
      },
      "source": [
        "# Save Model"
      ]
    },
    {
      "cell_type": "code",
      "execution_count": 37,
      "metadata": {},
      "outputs": [],
      "source": [
        "import pickle\n",
        "# Save the model to a file\n",
        "with open('model.pkl', 'wb') as file1:\n",
        "    pickle.dump(model2, file1)"
      ]
    },
    {
      "cell_type": "code",
      "execution_count": 39,
      "metadata": {},
      "outputs": [],
      "source": [
        "#Load the model from the file\n",
        "with open('model.pkl', 'rb') as file1:\n",
        "    loaded_model = pickle.load(file1)"
      ]
    },
    {
      "cell_type": "markdown",
      "metadata": {},
      "source": [
        "# Inference"
      ]
    },
    {
      "cell_type": "code",
      "execution_count": 41,
      "metadata": {},
      "outputs": [
        {
          "data": {
            "text/html": [
              "<div>\n",
              "<style scoped>\n",
              "    .dataframe tbody tr th:only-of-type {\n",
              "        vertical-align: middle;\n",
              "    }\n",
              "\n",
              "    .dataframe tbody tr th {\n",
              "        vertical-align: top;\n",
              "    }\n",
              "\n",
              "    .dataframe thead th {\n",
              "        text-align: right;\n",
              "    }\n",
              "</style>\n",
              "<table border=\"1\" class=\"dataframe\">\n",
              "  <thead>\n",
              "    <tr style=\"text-align: right;\">\n",
              "      <th></th>\n",
              "      <th>Jarak ke Ibu Kota Kabupaten (km)</th>\n",
              "      <th>Jumlah Penduduk</th>\n",
              "      <th>Kepadatan Penduduk</th>\n",
              "      <th>Perempuan</th>\n",
              "      <th>Usia Lansia (60 ke atas)</th>\n",
              "      <th>Usia Anak (0-14 tahun)</th>\n",
              "      <th>Ibu Hamil</th>\n",
              "      <th>Tingkat Pendidikan (SMA/sederajat)</th>\n",
              "    </tr>\n",
              "  </thead>\n",
              "  <tbody>\n",
              "    <tr>\n",
              "      <th>0</th>\n",
              "      <td>62.00</td>\n",
              "      <td>2190</td>\n",
              "      <td>122</td>\n",
              "      <td>1450</td>\n",
              "      <td>424</td>\n",
              "      <td>1655</td>\n",
              "      <td>104</td>\n",
              "      <td>374</td>\n",
              "    </tr>\n",
              "    <tr>\n",
              "      <th>1</th>\n",
              "      <td>51.00</td>\n",
              "      <td>3476</td>\n",
              "      <td>133</td>\n",
              "      <td>1567</td>\n",
              "      <td>172</td>\n",
              "      <td>876</td>\n",
              "      <td>150</td>\n",
              "      <td>472</td>\n",
              "    </tr>\n",
              "    <tr>\n",
              "      <th>2</th>\n",
              "      <td>49.00</td>\n",
              "      <td>901</td>\n",
              "      <td>257</td>\n",
              "      <td>457</td>\n",
              "      <td>331</td>\n",
              "      <td>472</td>\n",
              "      <td>78</td>\n",
              "      <td>146</td>\n",
              "    </tr>\n",
              "    <tr>\n",
              "      <th>3</th>\n",
              "      <td>30.56</td>\n",
              "      <td>1956</td>\n",
              "      <td>280</td>\n",
              "      <td>1870</td>\n",
              "      <td>329</td>\n",
              "      <td>568</td>\n",
              "      <td>96</td>\n",
              "      <td>389</td>\n",
              "    </tr>\n",
              "  </tbody>\n",
              "</table>\n",
              "</div>"
            ],
            "text/plain": [
              "   Jarak ke Ibu Kota Kabupaten (km)  Jumlah Penduduk  Kepadatan Penduduk   \n",
              "0                             62.00             2190                 122  \\\n",
              "1                             51.00             3476                 133   \n",
              "2                             49.00              901                 257   \n",
              "3                             30.56             1956                 280   \n",
              "\n",
              "   Perempuan  Usia Lansia (60 ke atas)  Usia Anak (0-14 tahun)  Ibu Hamil   \n",
              "0       1450                       424                    1655        104  \\\n",
              "1       1567                       172                     876        150   \n",
              "2        457                       331                     472         78   \n",
              "3       1870                       329                     568         96   \n",
              "\n",
              "   Tingkat Pendidikan (SMA/sederajat)  \n",
              "0                                 374  \n",
              "1                                 472  \n",
              "2                                 146  \n",
              "3                                 389  "
            ]
          },
          "execution_count": 41,
          "metadata": {},
          "output_type": "execute_result"
        }
      ],
      "source": [
        "input = {\n",
        "    'Jarak ke Ibu Kota Kabupaten (km)': [62, 51, 49, 30.56],\n",
        "    'Jumlah Penduduk' : [2190, 3476, 901, 1956],\n",
        "    'Kepadatan Penduduk': [122, 133, 257, 280],\n",
        "    'Perempuan': [1450, 1567, 457, 1870],\n",
        "    'Usia Lansia (60 ke atas)': [424, 172, 331, 329],\n",
        "    'Usia Anak (0-14 tahun)': [1655, 876, 472, 568],\n",
        "    'Ibu Hamil':[104, 150, 78, 96],\n",
        "    'Tingkat Pendidikan (SMA/sederajat)': [374, 472, 146, 389]\n",
        "}\n",
        "\n",
        "X_new = pd.DataFrame(input)\n",
        "X_new"
      ]
    },
    {
      "cell_type": "code",
      "execution_count": 42,
      "metadata": {},
      "outputs": [
        {
          "data": {
            "text/plain": [
              "array([ 76.89804, 131.75443,  62.84077,  63.08307], dtype=float32)"
            ]
          },
          "execution_count": 42,
          "metadata": {},
          "output_type": "execute_result"
        }
      ],
      "source": [
        "loaded_model.predict(X_new)"
      ]
    }
  ],
  "metadata": {
    "colab": {
      "provenance": [],
      "toc_visible": true
    },
    "kernelspec": {
      "display_name": "Python 3",
      "name": "python3"
    },
    "language_info": {
      "codemirror_mode": {
        "name": "ipython",
        "version": 3
      },
      "file_extension": ".py",
      "mimetype": "text/x-python",
      "name": "python",
      "nbconvert_exporter": "python",
      "pygments_lexer": "ipython3",
      "version": "3.10.2"
    }
  },
  "nbformat": 4,
  "nbformat_minor": 0
}
